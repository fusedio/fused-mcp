{
 "cells": [
  {
   "cell_type": "markdown",
   "id": "0878e3d2-d5db-4d98-9691-734d34a65c04",
   "metadata": {},
   "source": [
    "# Step by step: Passing Python functions to Claude Desktop\n",
    "\n",
    "By the end of this notebook you'll have everything you need to run Claude with _any_ Python code you pass as a Fused User Defined Function (UDF), all running locally. \n",
    "\n",
    "We made this for ourselves & other data scientists who are more familiar with notebooks & Python to directly pass any Python code to Claude.\n",
    "\n",
    "We're going to:\n",
    "\n",
    "1. Create a simple Fused UDF to get the current time\n",
    "2. Save this code locally (following the Fused UDF structure)\n",
    "3. Pass it to Claude's MCP server config\n",
    "4. Automatically restarting Claude with new changes\n"
   ]
  },
  {
   "cell_type": "code",
   "execution_count": 1,
   "id": "30c6f5d0-0da2-41b2-8f95-28438cba2d1c",
   "metadata": {},
   "outputs": [],
   "source": [
    "import fused\n",
    "import json\n",
    "import os\n",
    "import time\n",
    "from pathlib import Path"
   ]
  },
  {
   "cell_type": "markdown",
   "id": "6c2b99ff",
   "metadata": {},
   "source": [
    "Update the following with your local file paths:"
   ]
  },
  {
   "cell_type": "code",
   "execution_count": 2,
   "id": "678261d7-1e7d-4a7c-86af-120e2c2b5a90",
   "metadata": {},
   "outputs": [],
   "source": [
    "# This is the config file for MCP Servers that Claude Desktop uses\n",
    "PATH_TO_CLAUDE_CONFIG = f\"{str(Path.home())}/Library/Application Support/Claude/claude_desktop_config.json\"\n",
    "\n",
    "\n",
    "if not os.path.exists(PATH_TO_CLAUDE_CONFIG):\n",
    "    # Creating the config file\n",
    "    os.makedirs(os.path.dirname(PATH_TO_CLAUDE_CONFIG), exist_ok=True)\n",
    "    with open(PATH_TO_CLAUDE_CONFIG, 'w') as f:\n",
    "        json.dump({}, f)\n",
    "\n",
    "assert os.path.exists(PATH_TO_CLAUDE_CONFIG), \"Please update the PATH_TO_CLAUDE_CONFIG variable with the correct path to your Claude config file\""
   ]
  },
  {
   "cell_type": "code",
   "execution_count": 3,
   "id": "505cc4ea",
   "metadata": {},
   "outputs": [],
   "source": [
    "# Local path to the Claude app\n",
    "CLAUDE_APP_PATH = \"/Applications/Claude.app\"\n",
    "assert os.path.exists(CLAUDE_APP_PATH), \"Please update the CLAUDE_APP_PATH variable with the correct path to your Claude app\""
   ]
  },
  {
   "cell_type": "code",
   "execution_count": 4,
   "id": "f7b3262e",
   "metadata": {},
   "outputs": [],
   "source": [
    "# Change this path if you're not running this from the repo root\n",
    "WORKING_DIR = os.getcwd()"
   ]
  },
  {
   "cell_type": "markdown",
   "id": "7d8e237b",
   "metadata": {},
   "source": [
    "We can now create a simple Fused UDF that returns the current time. \n",
    "\n",
    "<!-- TODO: Explain a bit what a UDF (requirements, input / outputs) -->\n",
    "<!-- Explain why time is good example for LLMs, because they have a cutoff period of time -->"
   ]
  },
  {
   "cell_type": "code",
   "execution_count": 5,
   "id": "b378af54-8d3a-4dc8-8550-3a6a04b25172",
   "metadata": {},
   "outputs": [],
   "source": [
    "@fused.udf(cache_max_age='0s')\n",
    "def udf():\n",
    "    \"\"\"Simply return the current time in UTC\"\"\"\n",
    "    import time\n",
    "    import pandas as pd\n",
    "    from datetime import datetime, timezone\n",
    "\n",
    "    return pd.DataFrame({\"current_utc_time\": [\n",
    "        datetime.now(timezone.utc).strftime(\"%Y-%m-%d %H:%M:%S\")\n",
    "    ]})"
   ]
  },
  {
   "cell_type": "code",
   "execution_count": 6,
   "id": "6e55ffd4-820f-49d2-b2b8-6a8d7b96344b",
   "metadata": {},
   "outputs": [
    {
     "data": {
      "text/html": [
       "<div>\n",
       "<style scoped>\n",
       "    .dataframe tbody tr th:only-of-type {\n",
       "        vertical-align: middle;\n",
       "    }\n",
       "\n",
       "    .dataframe tbody tr th {\n",
       "        vertical-align: top;\n",
       "    }\n",
       "\n",
       "    .dataframe thead th {\n",
       "        text-align: right;\n",
       "    }\n",
       "</style>\n",
       "<table border=\"1\" class=\"dataframe\">\n",
       "  <thead>\n",
       "    <tr style=\"text-align: right;\">\n",
       "      <th></th>\n",
       "      <th>current_utc_time</th>\n",
       "    </tr>\n",
       "  </thead>\n",
       "  <tbody>\n",
       "    <tr>\n",
       "      <th>0</th>\n",
       "      <td>2025-03-19 09:15:10</td>\n",
       "    </tr>\n",
       "  </tbody>\n",
       "</table>\n",
       "</div>"
      ],
      "text/plain": [
       "      current_utc_time\n",
       "0  2025-03-19 09:15:10"
      ]
     },
     "execution_count": 6,
     "metadata": {},
     "output_type": "execute_result"
    }
   ],
   "source": [
    "# We can run this UDF locally with `fused.run(udf)`\n",
    "fused.run(udf)"
   ]
  },
  {
   "cell_type": "markdown",
   "id": "396ae469",
   "metadata": {},
   "source": [
    "## Passing our UDFs to Claude \n",
    "\n",
    "The MCP server API is still changing so we're offloading some of the logic of this notebook to code we are hosting on our Public UDF repository. We'll use these utility functions to move code around & pass it to Claude's MCP server config file \n",
    "\n",
    "<!-- TODO: Need to explain what agents.json file looks like -->"
   ]
  },
  {
   "cell_type": "code",
   "execution_count": 7,
   "id": "a874de7c-d49d-48db-90c9-35576d620305",
   "metadata": {},
   "outputs": [],
   "source": [
    "commit = \"5f860ab\"\n",
    "common = fused.load(f\"https://github.com/fusedio/udfs/tree/{commit}/public/common\").utils"
   ]
  },
  {
   "cell_type": "code",
   "execution_count": 8,
   "id": "c9ac83de-91e8-4477-8029-00cf99f09a49",
   "metadata": {},
   "outputs": [],
   "source": [
    "# This helper function creates an intermediate file pointing to which UDF Claude can access\n",
    "common.save_to_agent(\n",
    "    agent_json_path = os.path.join(WORKING_DIR, \"agents.json\"),\n",
    "    udf = udf,\n",
    "    agent_name = \"get_current_time\",\n",
    "    udf_name = \"current_utc_time\",\n",
    "    mcp_metadata = {\n",
    "        \"description\": \"UDF that returns the current datetime in UTC\",\n",
    "        \"parameters\": \"\",\n",
    "    }\n",
    ")"
   ]
  },
  {
   "cell_type": "code",
   "execution_count": 9,
   "id": "9a07244e-47f3-43f1-b163-345720c5f6db",
   "metadata": {},
   "outputs": [
    {
     "data": {
      "text/plain": [
       "{'agents': [{'name': 'get_current_time', 'udfs': ['current_utc_time']},\n",
       "  {'name': 'fused_docs', 'udfs': ['list_public_udfs', 'reading_fused_docs']}]}"
      ]
     },
     "execution_count": 9,
     "metadata": {},
     "output_type": "execute_result"
    }
   ],
   "source": [
    "# Checking the agents.json file\n",
    "json.load(open(os.path.join(WORKING_DIR, \"agents.json\")))"
   ]
  },
  {
   "cell_type": "code",
   "execution_count": 10,
   "id": "787b6142-0ad0-401e-a573-225e3cbcc0ea",
   "metadata": {},
   "outputs": [],
   "source": [
    "# Finally, we can select which Agent we want to pass to Claude in our MCP server config\n",
    "common.generate_local_mcp_config(\n",
    "    config_path=PATH_TO_CLAUDE_CONFIG,\n",
    "    agents_list = [\"get_current_time\"],\n",
    "    repo_path= WORKING_DIR,\n",
    ")"
   ]
  },
  {
   "cell_type": "code",
   "execution_count": 11,
   "id": "a9bdb274-dc04-49d5-bb42-8ef988a7304a",
   "metadata": {},
   "outputs": [
    {
     "data": {
      "text/plain": [
       "{'mcpServers': {'get_current_time': {'command': 'uv',\n",
       "   'args': ['run',\n",
       "    '--directory',\n",
       "    '/Users/maximelenormand/Library/CloudStorage/Dropbox/Mac/Documents/repos/fused-mcp',\n",
       "    'main.py',\n",
       "    '--runtime=local',\n",
       "    '--udf-names=current_utc_time',\n",
       "    '--name=get_current_time']}}}"
      ]
     },
     "execution_count": 11,
     "metadata": {},
     "output_type": "execute_result"
    }
   ],
   "source": [
    "# Reading claude config to confirm\n",
    "json.load(open(PATH_TO_CLAUDE_CONFIG))"
   ]
  },
  {
   "cell_type": "markdown",
   "id": "b7cdd82c",
   "metadata": {},
   "source": [
    "## Now restart Claude!"
   ]
  },
  {
   "cell_type": "code",
   "execution_count": 12,
   "id": "3c1b91f6",
   "metadata": {},
   "outputs": [],
   "source": [
    "def restart_claude(claude_path: str = CLAUDE_APP_PATH):\n",
    "    app_name = claude_path.split(\"/\")[-1]\n",
    "\n",
    "    try:\n",
    "        os.system(f\"pkill -f '{app_name}'\")\n",
    "        print(f\"Killed {app_name}\")\n",
    "        time.sleep(2)  # Wait for shutdown\n",
    "    except Exception as e:\n",
    "        print(f\"Claude wasn't running, so no need to kill it\")\n",
    "\n",
    "    print(f\"Restarting {app_name}\")\n",
    "    os.system(f\"open -a '{claude_path}'\")  # Restart Claude"
   ]
  },
  {
   "cell_type": "code",
   "execution_count": 13,
   "id": "b66ed08d",
   "metadata": {},
   "outputs": [
    {
     "name": "stdout",
     "output_type": "stream",
     "text": [
      "Killed Claude.app\n",
      "Restarting Claude.app\n"
     ]
    }
   ],
   "source": [
    "restart_claude()"
   ]
  },
  {
   "cell_type": "markdown",
   "id": "17fe3491",
   "metadata": {},
   "source": [
    "You might have to wait for a few seconds for Claude to load our MCP tools. Once tools are loaded it looks like this:\n",
    "\n",
    "![Local Claude with MCP tools](img/Claude_setup_with_mcp_tools.png)"
   ]
  },
  {
   "cell_type": "markdown",
   "id": "76b96f28",
   "metadata": {},
   "source": [
    "Everytime you run this you need to click \"Allow For This Chat\":\n",
    "\n",
    "![Allow for each chat](img/claude_agree_for_chat.png)"
   ]
  },
  {
   "cell_type": "markdown",
   "id": "ee899c9f",
   "metadata": {},
   "source": [
    "### Change agents & Build your own!\n",
    "\n",
    "You should now have everything you need to create your own MCP servers, save & pass them to Claude to directly interact with your code through an LLM"
   ]
  }
 ],
 "metadata": {
  "kernelspec": {
   "display_name": ".venv",
   "language": "python",
   "name": "python3"
  },
  "language_info": {
   "codemirror_mode": {
    "name": "ipython",
    "version": 3
   },
   "file_extension": ".py",
   "mimetype": "text/x-python",
   "name": "python",
   "nbconvert_exporter": "python",
   "pygments_lexer": "ipython3",
   "version": "3.12.5"
  }
 },
 "nbformat": 4,
 "nbformat_minor": 5
}
